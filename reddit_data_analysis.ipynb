{
 "cells": [
  {
   "cell_type": "code",
   "execution_count": 1,
   "metadata": {
    "collapsed": false
   },
   "outputs": [
    {
     "name": "stdout",
     "output_type": "stream",
     "text": [
      "2.7.11 |Anaconda 2.3.0 (x86_64)| (default, Dec  6 2015, 18:57:58) \n",
      "[GCC 4.2.1 (Apple Inc. build 5577)]\n",
      "numpy version: 1.9.3\n",
      "pandas version: 0.16.2\n"
     ]
    }
   ],
   "source": [
    "# Load usual data libraries\n",
    "import sys\n",
    "print(sys.version)\n",
    "import numpy as np\n",
    "print 'numpy version:', np.__version__\n",
    "import pandas as pd\n",
    "print 'pandas version:', pd.__version__\n",
    "import matplotlib as mpl\n",
    "import matplotlib.pyplot as plt\n",
    "%matplotlib inline"
   ]
  },
  {
   "cell_type": "code",
   "execution_count": 2,
   "metadata": {
    "collapsed": true
   },
   "outputs": [],
   "source": [
    "# Additional libraries\n",
    "import re\n",
    "import nltk\n",
    "from nltk.collocations import *\n",
    "from nltk.corpus import stopwords\n",
    "from bs4 import BeautifulSoup\n",
    "from collections import Counter\n",
    "from wordcloud import WordCloud"
   ]
  },
  {
   "cell_type": "code",
   "execution_count": 3,
   "metadata": {
    "collapsed": false
   },
   "outputs": [
    {
     "name": "stdout",
     "output_type": "stream",
     "text": [
      "[u'dark_background', u'bmh', u'grayscale', u'ggplot', u'fivethirtyeight']\n"
     ]
    }
   ],
   "source": [
    "# Set visualization parameters\n",
    "print mpl.style.available\n",
    "mpl.style.use('fivethirtyeight')\n",
    "plt.rcParams['figure.figsize'] = (15, 5) #make the plots bigger, adjust as needed."
   ]
  },
  {
   "cell_type": "code",
   "execution_count": 4,
   "metadata": {
    "collapsed": false
   },
   "outputs": [
    {
     "name": "stdout",
     "output_type": "stream",
     "text": [
      "whiter_topwords_2015-05csv.csv  whiterights-Jan_15-16.csv\r\n",
      "whiterights-FebJun_15.csv       whiterights-JulDec_15.csv\r\n"
     ]
    }
   ],
   "source": [
    "# The data (in three csv files) cover all WhiteRights subreddit's comments from January 2015 to January 2016:\n",
    "%ls wh*.csv"
   ]
  },
  {
   "cell_type": "code",
   "execution_count": 5,
   "metadata": {
    "collapsed": true
   },
   "outputs": [],
   "source": [
    "# Load each file as a pandas dataframe, use header from the first dataframe, set date fields to be transformed:\n",
    "df1 = pd.read_csv('whiterights-Jan_15-16.csv', dtype = {'created_utc': np.float64, 'retrieved_on': np.float64})"
   ]
  },
  {
   "cell_type": "code",
   "execution_count": 6,
   "metadata": {
    "collapsed": false
   },
   "outputs": [],
   "source": [
    "df2 = pd.read_csv('whiterights-FebJun_15.csv', dtype = {'created_utc': np.float64, 'retrieved_on': np.float64}, \n",
    "                 usecols = df1.columns)"
   ]
  },
  {
   "cell_type": "code",
   "execution_count": 7,
   "metadata": {
    "collapsed": true
   },
   "outputs": [],
   "source": [
    "df3 = pd.read_csv('whiterights-JulDec_15.csv', dtype = {'created_utc': np.float64, 'retrieved_on': np.float64},\n",
    "                 usecols = df1.columns)"
   ]
  },
  {
   "cell_type": "code",
   "execution_count": 8,
   "metadata": {
    "collapsed": false,
    "scrolled": true
   },
   "outputs": [
    {
     "data": {
      "text/html": [
       "<div>\n",
       "<table border=\"1\" class=\"dataframe\">\n",
       "  <thead>\n",
       "    <tr style=\"text-align: right;\">\n",
       "      <th></th>\n",
       "      <th>body</th>\n",
       "      <th>score_hidden</th>\n",
       "      <th>archived</th>\n",
       "      <th>name</th>\n",
       "      <th>author</th>\n",
       "      <th>author_flair_text</th>\n",
       "      <th>downs</th>\n",
       "      <th>created_utc</th>\n",
       "      <th>subreddit_id</th>\n",
       "      <th>link_id</th>\n",
       "      <th>parent_id</th>\n",
       "      <th>score</th>\n",
       "      <th>retrieved_on</th>\n",
       "      <th>controversiality</th>\n",
       "      <th>gilded</th>\n",
       "      <th>id</th>\n",
       "      <th>subreddit</th>\n",
       "      <th>ups</th>\n",
       "      <th>distinguished</th>\n",
       "      <th>author_flair_css_class</th>\n",
       "    </tr>\n",
       "  </thead>\n",
       "  <tbody>\n",
       "    <tr>\n",
       "      <th>0</th>\n",
       "      <td>Just remind everyone that whites are a minorit...</td>\n",
       "      <td>NaN</td>\n",
       "      <td>NaN</td>\n",
       "      <td>NaN</td>\n",
       "      <td>HonorableJudgeHolden</td>\n",
       "      <td>Atheist Ethnonationalist</td>\n",
       "      <td>NaN</td>\n",
       "      <td>1453478587</td>\n",
       "      <td>t5_2rjto</td>\n",
       "      <td>t3_425yne</td>\n",
       "      <td>t3_425yne</td>\n",
       "      <td>4</td>\n",
       "      <td>1454659190</td>\n",
       "      <td>0</td>\n",
       "      <td>0</td>\n",
       "      <td>cz7uspp</td>\n",
       "      <td>WhiteRights</td>\n",
       "      <td>4</td>\n",
       "      <td>NaN</td>\n",
       "      <td>natsoc</td>\n",
       "    </tr>\n",
       "    <tr>\n",
       "      <th>1</th>\n",
       "      <td>This is par for the course, as there has been ...</td>\n",
       "      <td>NaN</td>\n",
       "      <td>NaN</td>\n",
       "      <td>NaN</td>\n",
       "      <td>Exterminationist</td>\n",
       "      <td>Christian Identity</td>\n",
       "      <td>NaN</td>\n",
       "      <td>1452369392</td>\n",
       "      <td>t5_2rjto</td>\n",
       "      <td>t3_406o0v</td>\n",
       "      <td>t1_cys0ljz</td>\n",
       "      <td>2</td>\n",
       "      <td>1454385026</td>\n",
       "      <td>0</td>\n",
       "      <td>0</td>\n",
       "      <td>cys2kvv</td>\n",
       "      <td>WhiteRights</td>\n",
       "      <td>2</td>\n",
       "      <td>NaN</td>\n",
       "      <td>edl</td>\n",
       "    </tr>\n",
       "    <tr>\n",
       "      <th>2</th>\n",
       "      <td>[deleted]</td>\n",
       "      <td>NaN</td>\n",
       "      <td>NaN</td>\n",
       "      <td>NaN</td>\n",
       "      <td>[deleted]</td>\n",
       "      <td>NaN</td>\n",
       "      <td>NaN</td>\n",
       "      <td>1452043748</td>\n",
       "      <td>t5_2rjto</td>\n",
       "      <td>t3_3zgnar</td>\n",
       "      <td>t1_cynfs8c</td>\n",
       "      <td>2</td>\n",
       "      <td>1454306261</td>\n",
       "      <td>0</td>\n",
       "      <td>0</td>\n",
       "      <td>cynih7v</td>\n",
       "      <td>WhiteRights</td>\n",
       "      <td>2</td>\n",
       "      <td>NaN</td>\n",
       "      <td>NaN</td>\n",
       "    </tr>\n",
       "    <tr>\n",
       "      <th>3</th>\n",
       "      <td>Slavery my arse ..\\n\\n&amp;gt;Witness the testimon...</td>\n",
       "      <td>NaN</td>\n",
       "      <td>NaN</td>\n",
       "      <td>NaN</td>\n",
       "      <td>TornadoMikeAlley</td>\n",
       "      <td>NaN</td>\n",
       "      <td>NaN</td>\n",
       "      <td>1453446048</td>\n",
       "      <td>t5_2rjto</td>\n",
       "      <td>t3_424fj3</td>\n",
       "      <td>t3_424fj3</td>\n",
       "      <td>1</td>\n",
       "      <td>1454653697</td>\n",
       "      <td>0</td>\n",
       "      <td>0</td>\n",
       "      <td>cz7j604</td>\n",
       "      <td>WhiteRights</td>\n",
       "      <td>1</td>\n",
       "      <td>NaN</td>\n",
       "      <td>NaN</td>\n",
       "    </tr>\n",
       "    <tr>\n",
       "      <th>4</th>\n",
       "      <td>&amp;gt; I may kill myself, but only after all the...</td>\n",
       "      <td>NaN</td>\n",
       "      <td>NaN</td>\n",
       "      <td>NaN</td>\n",
       "      <td>HonorableJudgeHolden</td>\n",
       "      <td>Atheist Ethnonationalist</td>\n",
       "      <td>NaN</td>\n",
       "      <td>1451667508</td>\n",
       "      <td>t5_2rjto</td>\n",
       "      <td>t3_3z0n3y</td>\n",
       "      <td>t1_cyidhph</td>\n",
       "      <td>-1</td>\n",
       "      <td>1454217420</td>\n",
       "      <td>0</td>\n",
       "      <td>0</td>\n",
       "      <td>cyidjkp</td>\n",
       "      <td>WhiteRights</td>\n",
       "      <td>-1</td>\n",
       "      <td>NaN</td>\n",
       "      <td>natsoc</td>\n",
       "    </tr>\n",
       "  </tbody>\n",
       "</table>\n",
       "</div>"
      ],
      "text/plain": [
       "                                                body score_hidden archived  \\\n",
       "0  Just remind everyone that whites are a minorit...          NaN      NaN   \n",
       "1  This is par for the course, as there has been ...          NaN      NaN   \n",
       "2                                          [deleted]          NaN      NaN   \n",
       "3  Slavery my arse ..\\n\\n&gt;Witness the testimon...          NaN      NaN   \n",
       "4  &gt; I may kill myself, but only after all the...          NaN      NaN   \n",
       "\n",
       "  name                author         author_flair_text  downs  created_utc  \\\n",
       "0  NaN  HonorableJudgeHolden  Atheist Ethnonationalist    NaN   1453478587   \n",
       "1  NaN      Exterminationist        Christian Identity    NaN   1452369392   \n",
       "2  NaN             [deleted]                       NaN    NaN   1452043748   \n",
       "3  NaN      TornadoMikeAlley                       NaN    NaN   1453446048   \n",
       "4  NaN  HonorableJudgeHolden  Atheist Ethnonationalist    NaN   1451667508   \n",
       "\n",
       "  subreddit_id    link_id   parent_id  score  retrieved_on  controversiality  \\\n",
       "0     t5_2rjto  t3_425yne   t3_425yne      4    1454659190                 0   \n",
       "1     t5_2rjto  t3_406o0v  t1_cys0ljz      2    1454385026                 0   \n",
       "2     t5_2rjto  t3_3zgnar  t1_cynfs8c      2    1454306261                 0   \n",
       "3     t5_2rjto  t3_424fj3   t3_424fj3      1    1454653697                 0   \n",
       "4     t5_2rjto  t3_3z0n3y  t1_cyidhph     -1    1454217420                 0   \n",
       "\n",
       "   gilded       id    subreddit  ups distinguished author_flair_css_class  \n",
       "0       0  cz7uspp  WhiteRights    4           NaN                 natsoc  \n",
       "1       0  cys2kvv  WhiteRights    2           NaN                    edl  \n",
       "2       0  cynih7v  WhiteRights    2           NaN                    NaN  \n",
       "3       0  cz7j604  WhiteRights    1           NaN                    NaN  \n",
       "4       0  cyidjkp  WhiteRights   -1           NaN                 natsoc  "
      ]
     },
     "execution_count": 8,
     "metadata": {},
     "output_type": "execute_result"
    }
   ],
   "source": [
    "df1.head()"
   ]
  },
  {
   "cell_type": "code",
   "execution_count": 9,
   "metadata": {
    "collapsed": false
   },
   "outputs": [
    {
     "data": {
      "text/plain": [
       "(3308, 8633, 10224)"
      ]
     },
     "execution_count": 9,
     "metadata": {},
     "output_type": "execute_result"
    }
   ],
   "source": [
    "# Check number of rows in each dataframe:\n",
    "len(df1), len(df2), len(df3)"
   ]
  },
  {
   "cell_type": "code",
   "execution_count": 10,
   "metadata": {
    "collapsed": true
   },
   "outputs": [],
   "source": [
    "# Concatenate dataframes into one with all comments from the subreddit WhiteRights from January 2015 to January 2016:\n",
    "frames = [df1, df2, df3]\n",
    "data = pd.concat(frames, ignore_index = True)"
   ]
  },
  {
   "cell_type": "code",
   "execution_count": 11,
   "metadata": {
    "collapsed": false
   },
   "outputs": [
    {
     "name": "stdout",
     "output_type": "stream",
     "text": [
      "<class 'pandas.core.frame.DataFrame'>\n",
      "Int64Index: 22165 entries, 0 to 22164\n",
      "Data columns (total 20 columns):\n",
      "body                      22164 non-null object\n",
      "score_hidden              14880 non-null object\n",
      "archived                  14880 non-null object\n",
      "name                      14880 non-null object\n",
      "author                    22165 non-null object\n",
      "author_flair_text         3087 non-null object\n",
      "downs                     14880 non-null float64\n",
      "created_utc               22165 non-null float64\n",
      "subreddit_id              22165 non-null object\n",
      "link_id                   22165 non-null object\n",
      "parent_id                 22165 non-null object\n",
      "score                     22165 non-null int64\n",
      "retrieved_on              22024 non-null float64\n",
      "controversiality          22165 non-null int64\n",
      "gilded                    22165 non-null int64\n",
      "id                        22165 non-null object\n",
      "subreddit                 22165 non-null object\n",
      "ups                       22165 non-null int64\n",
      "distinguished             56 non-null object\n",
      "author_flair_css_class    5839 non-null object\n",
      "dtypes: float64(3), int64(4), object(13)\n",
      "memory usage: 3.6+ MB\n"
     ]
    }
   ],
   "source": [
    "data.info()"
   ]
  },
  {
   "cell_type": "code",
   "execution_count": 12,
   "metadata": {
    "collapsed": false
   },
   "outputs": [],
   "source": [
    "# Convert unix time fields into datetime:\n",
    "data['created_utc'] = pd.to_datetime(data['created_utc'], unit = 's')\n",
    "data['retrieved_on'] = pd.to_datetime(data['retrieved_on'], unit = 's')"
   ]
  },
  {
   "cell_type": "code",
   "execution_count": 13,
   "metadata": {
    "collapsed": false
   },
   "outputs": [
    {
     "data": {
      "text/plain": [
       "body                              object\n",
       "score_hidden                      object\n",
       "archived                          object\n",
       "name                              object\n",
       "author                            object\n",
       "author_flair_text                 object\n",
       "downs                            float64\n",
       "created_utc               datetime64[ns]\n",
       "subreddit_id                      object\n",
       "link_id                           object\n",
       "parent_id                         object\n",
       "score                              int64\n",
       "retrieved_on              datetime64[ns]\n",
       "controversiality                   int64\n",
       "gilded                             int64\n",
       "id                                object\n",
       "subreddit                         object\n",
       "ups                                int64\n",
       "distinguished                     object\n",
       "author_flair_css_class            object\n",
       "dtype: object"
      ]
     },
     "execution_count": 13,
     "metadata": {},
     "output_type": "execute_result"
    }
   ],
   "source": [
    "data.dtypes"
   ]
  },
  {
   "cell_type": "code",
   "execution_count": 14,
   "metadata": {
    "collapsed": false
   },
   "outputs": [
    {
     "data": {
      "text/html": [
       "<div>\n",
       "<table border=\"1\" class=\"dataframe\">\n",
       "  <thead>\n",
       "    <tr style=\"text-align: right;\">\n",
       "      <th></th>\n",
       "      <th>body</th>\n",
       "      <th>score_hidden</th>\n",
       "      <th>archived</th>\n",
       "      <th>name</th>\n",
       "      <th>author</th>\n",
       "      <th>author_flair_text</th>\n",
       "      <th>downs</th>\n",
       "      <th>created_utc</th>\n",
       "      <th>subreddit_id</th>\n",
       "      <th>link_id</th>\n",
       "      <th>parent_id</th>\n",
       "      <th>score</th>\n",
       "      <th>retrieved_on</th>\n",
       "      <th>controversiality</th>\n",
       "      <th>gilded</th>\n",
       "      <th>id</th>\n",
       "      <th>subreddit</th>\n",
       "      <th>ups</th>\n",
       "      <th>distinguished</th>\n",
       "      <th>author_flair_css_class</th>\n",
       "    </tr>\n",
       "  </thead>\n",
       "  <tbody>\n",
       "    <tr>\n",
       "      <th>22160</th>\n",
       "      <td>this will not end well, for them not us. redpi...</td>\n",
       "      <td>False</td>\n",
       "      <td>False</td>\n",
       "      <td>t1_culccl5</td>\n",
       "      <td>grindmonkey</td>\n",
       "      <td>Clerical Fascist</td>\n",
       "      <td>0</td>\n",
       "      <td>2015-08-31 01:18:15</td>\n",
       "      <td>t5_2rjto</td>\n",
       "      <td>t3_3iz4qg</td>\n",
       "      <td>t3_3iz4qg</td>\n",
       "      <td>4</td>\n",
       "      <td>2015-09-07 03:44:15</td>\n",
       "      <td>0</td>\n",
       "      <td>0</td>\n",
       "      <td>culccl5</td>\n",
       "      <td>WhiteRights</td>\n",
       "      <td>4</td>\n",
       "      <td>NaN</td>\n",
       "      <td>edl</td>\n",
       "    </tr>\n",
       "    <tr>\n",
       "      <th>22161</th>\n",
       "      <td>Hell yes.</td>\n",
       "      <td>False</td>\n",
       "      <td>False</td>\n",
       "      <td>t1_cujl89o</td>\n",
       "      <td>bustedcougar</td>\n",
       "      <td>NaN</td>\n",
       "      <td>0</td>\n",
       "      <td>2015-08-29 09:25:10</td>\n",
       "      <td>t5_2rjto</td>\n",
       "      <td>t3_3ir62j</td>\n",
       "      <td>t1_cuj8dra</td>\n",
       "      <td>2</td>\n",
       "      <td>2015-09-06 18:48:21</td>\n",
       "      <td>0</td>\n",
       "      <td>0</td>\n",
       "      <td>cujl89o</td>\n",
       "      <td>WhiteRights</td>\n",
       "      <td>2</td>\n",
       "      <td>NaN</td>\n",
       "      <td>NaN</td>\n",
       "    </tr>\n",
       "    <tr>\n",
       "      <th>22162</th>\n",
       "      <td>Why can't we just accept that they're predispo...</td>\n",
       "      <td>False</td>\n",
       "      <td>False</td>\n",
       "      <td>t1_ctvay4j</td>\n",
       "      <td>la-raza-blanca</td>\n",
       "      <td>NaN</td>\n",
       "      <td>0</td>\n",
       "      <td>2015-08-07 22:03:53</td>\n",
       "      <td>t5_2rjto</td>\n",
       "      <td>t3_3g2fd2</td>\n",
       "      <td>t3_3g2fd2</td>\n",
       "      <td>1</td>\n",
       "      <td>2015-08-23 16:25:17</td>\n",
       "      <td>0</td>\n",
       "      <td>0</td>\n",
       "      <td>ctvay4j</td>\n",
       "      <td>WhiteRights</td>\n",
       "      <td>1</td>\n",
       "      <td>NaN</td>\n",
       "      <td>NaN</td>\n",
       "    </tr>\n",
       "    <tr>\n",
       "      <th>22163</th>\n",
       "      <td>[deleted]</td>\n",
       "      <td>False</td>\n",
       "      <td>False</td>\n",
       "      <td>t1_cttzlmq</td>\n",
       "      <td>[deleted]</td>\n",
       "      <td>NaN</td>\n",
       "      <td>0</td>\n",
       "      <td>2015-08-06 20:16:37</td>\n",
       "      <td>t5_2rjto</td>\n",
       "      <td>t3_3g1ouo</td>\n",
       "      <td>t3_3g1ouo</td>\n",
       "      <td>1</td>\n",
       "      <td>2015-08-23 10:03:10</td>\n",
       "      <td>0</td>\n",
       "      <td>0</td>\n",
       "      <td>cttzlmq</td>\n",
       "      <td>WhiteRights</td>\n",
       "      <td>1</td>\n",
       "      <td>NaN</td>\n",
       "      <td>NaN</td>\n",
       "    </tr>\n",
       "    <tr>\n",
       "      <th>22164</th>\n",
       "      <td>White guy went on websites like this shitty su...</td>\n",
       "      <td>False</td>\n",
       "      <td>False</td>\n",
       "      <td>t1_culzuh1</td>\n",
       "      <td>Pardonme23</td>\n",
       "      <td>NaN</td>\n",
       "      <td>0</td>\n",
       "      <td>2015-08-31 17:02:07</td>\n",
       "      <td>t5_2rjto</td>\n",
       "      <td>t3_3j0ku2</td>\n",
       "      <td>t1_culor02</td>\n",
       "      <td>0</td>\n",
       "      <td>2015-09-07 06:55:05</td>\n",
       "      <td>0</td>\n",
       "      <td>0</td>\n",
       "      <td>culzuh1</td>\n",
       "      <td>WhiteRights</td>\n",
       "      <td>0</td>\n",
       "      <td>NaN</td>\n",
       "      <td>NaN</td>\n",
       "    </tr>\n",
       "  </tbody>\n",
       "</table>\n",
       "</div>"
      ],
      "text/plain": [
       "                                                    body score_hidden  \\\n",
       "22160  this will not end well, for them not us. redpi...        False   \n",
       "22161                                          Hell yes.        False   \n",
       "22162  Why can't we just accept that they're predispo...        False   \n",
       "22163                                          [deleted]        False   \n",
       "22164  White guy went on websites like this shitty su...        False   \n",
       "\n",
       "      archived        name          author author_flair_text  downs  \\\n",
       "22160    False  t1_culccl5     grindmonkey  Clerical Fascist      0   \n",
       "22161    False  t1_cujl89o    bustedcougar               NaN      0   \n",
       "22162    False  t1_ctvay4j  la-raza-blanca               NaN      0   \n",
       "22163    False  t1_cttzlmq       [deleted]               NaN      0   \n",
       "22164    False  t1_culzuh1      Pardonme23               NaN      0   \n",
       "\n",
       "              created_utc subreddit_id    link_id   parent_id  score  \\\n",
       "22160 2015-08-31 01:18:15     t5_2rjto  t3_3iz4qg   t3_3iz4qg      4   \n",
       "22161 2015-08-29 09:25:10     t5_2rjto  t3_3ir62j  t1_cuj8dra      2   \n",
       "22162 2015-08-07 22:03:53     t5_2rjto  t3_3g2fd2   t3_3g2fd2      1   \n",
       "22163 2015-08-06 20:16:37     t5_2rjto  t3_3g1ouo   t3_3g1ouo      1   \n",
       "22164 2015-08-31 17:02:07     t5_2rjto  t3_3j0ku2  t1_culor02      0   \n",
       "\n",
       "             retrieved_on  controversiality  gilded       id    subreddit  \\\n",
       "22160 2015-09-07 03:44:15                 0       0  culccl5  WhiteRights   \n",
       "22161 2015-09-06 18:48:21                 0       0  cujl89o  WhiteRights   \n",
       "22162 2015-08-23 16:25:17                 0       0  ctvay4j  WhiteRights   \n",
       "22163 2015-08-23 10:03:10                 0       0  cttzlmq  WhiteRights   \n",
       "22164 2015-09-07 06:55:05                 0       0  culzuh1  WhiteRights   \n",
       "\n",
       "       ups distinguished author_flair_css_class  \n",
       "22160    4           NaN                    edl  \n",
       "22161    2           NaN                    NaN  \n",
       "22162    1           NaN                    NaN  \n",
       "22163    1           NaN                    NaN  \n",
       "22164    0           NaN                    NaN  "
      ]
     },
     "execution_count": 14,
     "metadata": {},
     "output_type": "execute_result"
    }
   ],
   "source": [
    "# Visualize data with transformed datetime columns. \n",
    "# These columns won't be used in this analysis, but can be very useful later.\n",
    "data.tail()"
   ]
  },
  {
   "cell_type": "code",
   "execution_count": 15,
   "metadata": {
    "collapsed": true
   },
   "outputs": [],
   "source": [
    "# Enter list of stopwords retrieved from the internet to complement that of the NLPTK:\n",
    "stopwords_list = ['a', 'about', 'above', 'across', 'after', 'afterwards']\n",
    "stopwords_list += ['again', 'against', 'all', 'almost', 'alone', 'along']\n",
    "stopwords_list += ['already', 'also', 'although', 'always', 'am', 'among']\n",
    "stopwords_list += ['amongst', 'amoungst', 'amount', 'amp', 'an', 'and', 'another']\n",
    "stopwords_list += ['any', 'anyhow', 'anyone', 'anything', 'anyway', 'anywhere']\n",
    "stopwords_list += ['are', 'around', 'as', 'at', 'back', 'be', 'became']\n",
    "stopwords_list += ['because', 'become', 'becomes', 'becoming', 'been']\n",
    "stopwords_list += ['before', 'beforehand', 'behind', 'being', 'below']\n",
    "stopwords_list += ['beside', 'besides', 'between', 'beyond', 'bill', 'both']\n",
    "stopwords_list += ['bottom', 'but', 'by', 'call', 'can', 'cannot', 'cant']\n",
    "stopwords_list += ['co', 'com', 'computer', 'con', 'could', 'couldnt', 'cry', 'de']\n",
    "stopwords_list += ['describe', 'detail', 'did', 'do', 'done', 'down', 'due']\n",
    "stopwords_list += ['during', 'each', 'eg', 'eight', 'either', 'eleven', 'else']\n",
    "stopwords_list += ['elsewhere', 'empty', 'enough', 'etc', 'even', 'ever']\n",
    "stopwords_list += ['every', 'everyone', 'everything', 'everywhere', 'except']\n",
    "stopwords_list += ['few', 'fifteen', 'fifty', 'fill', 'find', 'fire', 'first']\n",
    "stopwords_list += ['five', 'for', 'former', 'formerly', 'forty', 'found']\n",
    "stopwords_list += ['four', 'from', 'front', 'full', 'further', 'get', 'give']\n",
    "stopwords_list += ['go', 'gt', 'had', 'has', 'hasnt', 'have', 'he', 'hence', 'her']\n",
    "stopwords_list += ['here', 'hereafter', 'hereby', 'herein', 'hereupon', 'hers']\n",
    "stopwords_list += ['herself', 'him', 'himself', 'his', 'how', 'however', 'http', 'https']\n",
    "stopwords_list += ['hundred', 'i', 'ie', 'if', 'in', 'inc', 'indeed']\n",
    "stopwords_list += ['interest', 'into', 'is', 'it', 'its', 'itself', 'keep']\n",
    "stopwords_list += ['last', 'latter', 'latterly', 'least', 'less', 'ltd', 'made']\n",
    "stopwords_list += ['many', 'may', 'me', 'meanwhile', 'might', 'mill', 'mine']\n",
    "stopwords_list += ['more', 'moreover', 'most', 'mostly', 'move', 'much']\n",
    "stopwords_list += ['must', 'my', 'myself', 'name', 'namely', 'neither', 'never']\n",
    "stopwords_list += ['nevertheless', 'next', 'nine', 'no', 'nobody', 'none']\n",
    "stopwords_list += ['noone', 'nor', 'not', 'nothing', 'now', 'nowhere', 'of']\n",
    "stopwords_list += ['off', 'often', 'on','once', 'one', 'only', 'onto', 'or']\n",
    "stopwords_list += ['other', 'others', 'otherwise', 'our', 'ours', 'ourselves']\n",
    "stopwords_list += ['out', 'over', 'own', 'part', 'per', 'perhaps', 'please']\n",
    "stopwords_list += ['put', 'r', 'rather', 're', 's', 'same', 'see', 'seem', 'seemed']\n",
    "stopwords_list += ['seeming', 'seems', 'serious', 'several', 'she', 'should']\n",
    "stopwords_list += ['show', 'side', 'since', 'sincere', 'six', 'sixty', 'so']\n",
    "stopwords_list += ['some', 'somehow', 'someone', 'something', 'sometime']\n",
    "stopwords_list += ['sometimes', 'somewhere', 'still', 'such', 'system', 'take']\n",
    "stopwords_list += ['ten', 'than', 'that', 'the', 'their', 'them', 'themselves']\n",
    "stopwords_list += ['then', 'thence', 'there', 'thereafter', 'thereby']\n",
    "stopwords_list += ['therefore', 'therein', 'thereupon', 'these', 'they']\n",
    "stopwords_list += ['thick', 'thin', 'third', 'this', 'those', 'though', 'three']\n",
    "stopwords_list += ['three', 'through', 'throughout', 'thru', 'thus', 'to']\n",
    "stopwords_list += ['together', 'too', 'top', 'toward', 'towards', 'twelve']\n",
    "stopwords_list += ['twenty', 'two', 'un', 'under', 'until', 'up', 'upon']\n",
    "stopwords_list += ['us', 'very', 'via', 'was', 'we', 'well', 'were', 'what']\n",
    "stopwords_list += ['whatever', 'when', 'whence', 'whenever', 'where']\n",
    "stopwords_list += ['whereafter', 'whereas', 'whereby', 'wherein', 'whereupon']\n",
    "stopwords_list += ['wherever', 'whether', 'which', 'while', 'whither', 'who']\n",
    "stopwords_list += ['whoever', 'whole', 'whom', 'whose', 'why', 'will', 'with']\n",
    "stopwords_list += ['within', 'without', 'would', 'www', 'yet', 'you', 'your']\n",
    "stopwords_list += ['yours', 'yourself', 'yourselves']"
   ]
  },
  {
   "cell_type": "code",
   "execution_count": 16,
   "metadata": {
    "collapsed": true
   },
   "outputs": [],
   "source": [
    "# Combine lists of stopwords into a set:\n",
    "nltk_list = stopwords.words('english') #153 items\n",
    "stop_words = set(nltk_list + stopwords_list) #353 unique items combined"
   ]
  },
  {
   "cell_type": "code",
   "execution_count": 17,
   "metadata": {
    "collapsed": true
   },
   "outputs": [],
   "source": [
    "# Create function to clean text data (adapted from https://www.kaggle.com/c/word2vec-nlp-tutorial/):\n",
    "def clean_content(raw_content):\n",
    "    \"\"\"Function to convert a raw content to a string of words\n",
    "    The input is a single string (one reddit 'body'), and the\n",
    "    output is a single string (a preprocessed reddit body)\"\"\"\n",
    "    # 1. Remove non-letters (i.e. numbers, punctuation...)        \n",
    "    letters_only = re.sub(\"[^a-zA-Z]\", \" \", raw_content) \n",
    "    #\n",
    "    # 2. Remove HTML tags\n",
    "    content_text = BeautifulSoup(letters_only).get_text() \n",
    "    #\n",
    "    # 3. Convert to lower case, split into individual words\n",
    "    words = content_text.lower().split()                             \n",
    "    #\n",
    "    # 4. Remove stop words\n",
    "    meaningful_words = [w for w in words if not w in stop_words]   \n",
    "    #\n",
    "    # 5. Join all the words back into one string separated by space, \n",
    "    # and return the result.\n",
    "    return( \" \".join( meaningful_words ))"
   ]
  },
  {
   "cell_type": "code",
   "execution_count": 18,
   "metadata": {
    "collapsed": false
   },
   "outputs": [
    {
     "data": {
      "text/plain": [
       "0    Just remind everyone that whites are a minorit...\n",
       "1    This is par for the course, as there has been ...\n",
       "2                                            [deleted]\n",
       "3    Slavery my arse ..\\n\\n&gt;Witness the testimon...\n",
       "4    &gt; I may kill myself, but only after all the...\n",
       "Name: body, dtype: object"
      ]
     },
     "execution_count": 18,
     "metadata": {},
     "output_type": "execute_result"
    }
   ],
   "source": [
    "# Select column 'body' as the text data to work with, remove empty comments\n",
    "raw_content = data['body'].dropna()\n",
    "raw_content.head()"
   ]
  },
  {
   "cell_type": "code",
   "execution_count": 19,
   "metadata": {
    "collapsed": false
   },
   "outputs": [],
   "source": [
    "# Apply function to clean content\n",
    "content = raw_content.apply(lambda x: clean_content(x))"
   ]
  },
  {
   "cell_type": "code",
   "execution_count": 20,
   "metadata": {
    "collapsed": false
   },
   "outputs": [
    {
     "name": "stdout",
     "output_type": "stream",
     "text": [
      "<class 'pandas.core.series.Series'>\n"
     ]
    },
    {
     "data": {
      "text/plain": [
       "0    remind whites minority california need stop ca...\n",
       "1    par course influx limp wristed fag apologists ...\n",
       "2                                              deleted\n",
       "3    slavery arse witness testimony king dahomey bp...\n",
       "4    kill nazis purged women poc lgbt people contro...\n",
       "Name: body, dtype: object"
      ]
     },
     "execution_count": 20,
     "metadata": {},
     "output_type": "execute_result"
    }
   ],
   "source": [
    "print type(content)\n",
    "content.head()"
   ]
  },
  {
   "cell_type": "code",
   "execution_count": 21,
   "metadata": {
    "collapsed": false
   },
   "outputs": [],
   "source": [
    "# Create function to merge all rows of a series into one string (to be used to create a word cloud):\n",
    "def create_string(series):\n",
    "    \"\"\"Function to create one string from the text content of a pandas series \"\"\"\n",
    "    wordstring = ''\n",
    "    for row in series:\n",
    "        wordstring += ' ' + row\n",
    "    return wordstring"
   ]
  },
  {
   "cell_type": "code",
   "execution_count": 22,
   "metadata": {
    "collapsed": false
   },
   "outputs": [],
   "source": [
    "words = create_string(content) #merge each line (content) into one string"
   ]
  },
  {
   "cell_type": "code",
   "execution_count": 23,
   "metadata": {
    "collapsed": false
   },
   "outputs": [
    {
     "data": {
      "text/plain": [
       "u'random people based race evidence gated black people prior crime black guy disgruntled employer killed people knew personal vendetta legally hate crime expect able tell difference echo chamber educate'"
      ]
     },
     "execution_count": 23,
     "metadata": {},
     "output_type": "execute_result"
    }
   ],
   "source": [
    "# Check result (last 200 characters)\n",
    "words[-200:]"
   ]
  },
  {
   "cell_type": "code",
   "execution_count": 24,
   "metadata": {
    "collapsed": false
   },
   "outputs": [],
   "source": [
    "# Generate a word cloud by taking relative word frequencies into account, lower max_font_size:\n",
    "wordcloud = WordCloud(max_font_size = 40, relative_scaling = 0.5).generate(words)"
   ]
  },
  {
   "cell_type": "code",
   "execution_count": 25,
   "metadata": {
    "collapsed": false
   },
   "outputs": [
    {
     "data": {
      "image/png": "[encoded data removed]",
      "text/plain": [
       "<matplotlib.figure.Figure at 0x104d45550>"
      ]
     },
     "metadata": {},
     "output_type": "display_data"
    }
   ],
   "source": [
    "# Plot via matplotlib:\n",
    "fig = plt.figure()\n",
    "plt.imshow(wordcloud)\n",
    "plt.axis('off')\n",
    "plt.show()"
   ]
  },
  {
   "cell_type": "code",
   "execution_count": 26,
   "metadata": {
    "collapsed": false
   },
   "outputs": [],
   "source": [
    "# Save word cloud image\n",
    "#fig.savefig('wordcloud.pdf', bbox_inches='tight')"
   ]
  },
  {
   "cell_type": "code",
   "execution_count": 27,
   "metadata": {
    "collapsed": true
   },
   "outputs": [],
   "source": [
    "# Create a list of tokens (words)\n",
    "word_list = words.split()"
   ]
  },
  {
   "cell_type": "code",
   "execution_count": 28,
   "metadata": {
    "collapsed": false
   },
   "outputs": [
    {
     "data": {
      "text/plain": [
       "(419800, 32621)"
      ]
     },
     "execution_count": 28,
     "metadata": {},
     "output_type": "execute_result"
    }
   ],
   "source": [
    "# Show number of tokens in the dataset as well as number of unique tokens:\n",
    "len(word_list), len(set(word_list))"
   ]
  },
  {
   "cell_type": "code",
   "execution_count": 29,
   "metadata": {
    "collapsed": true
   },
   "outputs": [],
   "source": [
    "# Count the frequency of each word using the collections library:\n",
    "wordcount = Counter(word_list) #expects list of tokens, not one string"
   ]
  },
  {
   "cell_type": "code",
   "execution_count": 30,
   "metadata": {
    "collapsed": false
   },
   "outputs": [
    {
     "data": {
      "text/plain": [
       "white      6609\n",
       "people     5276\n",
       "like       3325\n",
       "jews       2386\n",
       "whites     2127\n",
       "black      2042\n",
       "think      1775\n",
       "deleted    1579\n",
       "race       1454\n",
       "jewish     1312\n",
       "dtype: int64"
      ]
     },
     "execution_count": 30,
     "metadata": {},
     "output_type": "execute_result"
    }
   ],
   "source": [
    "# Visualize the top 10 words with the highest counts in the corpus:\n",
    "top10 =pd.Series(dict(wordcount)).order(ascending = False)[:10]\n",
    "top10"
   ]
  },
  {
   "cell_type": "code",
   "execution_count": 31,
   "metadata": {
    "collapsed": false
   },
   "outputs": [
    {
     "data": {
      "image/png": "[encoded data removed]",
      "text/plain": [
       "<matplotlib.figure.Figure at 0x112300390>"
      ]
     },
     "metadata": {},
     "output_type": "display_data"
    }
   ],
   "source": [
    "# Plot cumulative frequency distribution using the NLTK:\n",
    "nltk.FreqDist(word_list).plot(25, cumulative=True)"
   ]
  },
  {
   "cell_type": "code",
   "execution_count": 32,
   "metadata": {
    "collapsed": false
   },
   "outputs": [
    {
     "data": {
      "text/plain": [
       "[(u'remind', u'whites'),\n",
       " (u'whites', u'minority'),\n",
       " (u'minority', u'california'),\n",
       " (u'california', u'need'),\n",
       " (u'need', u'stop'),\n",
       " (u'stop', u'calling'),\n",
       " (u'calling', u'non'),\n",
       " (u'non', u'minorities'),\n",
       " (u'minorities', u'minorities'),\n",
       " (u'minorities', u'par')]"
      ]
     },
     "execution_count": 32,
     "metadata": {},
     "output_type": "execute_result"
    }
   ],
   "source": [
    "# Analyzing bigrams: here are the first 10 bigrams in the text:\n",
    "list(nltk.bigrams(word_list))[:10]"
   ]
  },
  {
   "cell_type": "code",
   "execution_count": 33,
   "metadata": {
    "collapsed": false
   },
   "outputs": [],
   "source": [
    "# We want to find bigrams that occur more often than we would expect based on the frequency of the individual words. \n",
    "# The collocations function does this for us:\n",
    "bigram_measures = nltk.collocations.BigramAssocMeasures()\n",
    "finder = BigramCollocationFinder.from_words(word_list)\n",
    "finder.apply_freq_filter(3) #ignores any bigram that occurs less than 3 times in the text\n",
    "top50_bigrams = finder.nbest(bigram_measures.pmi, 50) #top 50 bigrams"
   ]
  },
  {
   "cell_type": "code",
   "execution_count": 34,
   "metadata": {
    "collapsed": false
   },
   "outputs": [
    {
     "data": {
      "text/html": [
       "<div>\n",
       "<table border=\"1\" class=\"dataframe\">\n",
       "  <thead>\n",
       "    <tr style=\"text-align: right;\">\n",
       "      <th></th>\n",
       "      <th>word_1</th>\n",
       "      <th>word_2</th>\n",
       "    </tr>\n",
       "  </thead>\n",
       "  <tbody>\n",
       "    <tr>\n",
       "      <th>0</th>\n",
       "      <td>aboda</td>\n",
       "      <td>zara</td>\n",
       "    </tr>\n",
       "    <tr>\n",
       "      <th>1</th>\n",
       "      <td>agnes</td>\n",
       "      <td>selsing</td>\n",
       "    </tr>\n",
       "    <tr>\n",
       "      <th>2</th>\n",
       "      <td>banu</td>\n",
       "      <td>qurayza</td>\n",
       "    </tr>\n",
       "    <tr>\n",
       "      <th>3</th>\n",
       "      <td>benklassen</td>\n",
       "      <td>thewhiteman</td>\n",
       "    </tr>\n",
       "    <tr>\n",
       "      <th>4</th>\n",
       "      <td>bix</td>\n",
       "      <td>nood</td>\n",
       "    </tr>\n",
       "    <tr>\n",
       "      <th>5</th>\n",
       "      <td>caleb</td>\n",
       "      <td>shumaker</td>\n",
       "    </tr>\n",
       "    <tr>\n",
       "      <th>6</th>\n",
       "      <td>clint</td>\n",
       "      <td>eastwood</td>\n",
       "    </tr>\n",
       "    <tr>\n",
       "      <th>7</th>\n",
       "      <td>convertstometric</td>\n",
       "      <td>xhk</td>\n",
       "    </tr>\n",
       "    <tr>\n",
       "      <th>8</th>\n",
       "      <td>fiddle</td>\n",
       "      <td>jshell</td>\n",
       "    </tr>\n",
       "    <tr>\n",
       "      <th>9</th>\n",
       "      <td>golda</td>\n",
       "      <td>meir</td>\n",
       "    </tr>\n",
       "    <tr>\n",
       "      <th>10</th>\n",
       "      <td>grassy</td>\n",
       "      <td>knoll</td>\n",
       "    </tr>\n",
       "    <tr>\n",
       "      <th>11</th>\n",
       "      <td>habonim</td>\n",
       "      <td>dror</td>\n",
       "    </tr>\n",
       "    <tr>\n",
       "      <th>12</th>\n",
       "      <td>jisra</td>\n",
       "      <td>liten</td>\n",
       "    </tr>\n",
       "    <tr>\n",
       "      <th>13</th>\n",
       "      <td>juri</td>\n",
       "      <td>lina</td>\n",
       "    </tr>\n",
       "    <tr>\n",
       "      <th>14</th>\n",
       "      <td>kim</td>\n",
       "      <td>jong</td>\n",
       "    </tr>\n",
       "    <tr>\n",
       "      <th>15</th>\n",
       "      <td>knuckle</td>\n",
       "      <td>draggers</td>\n",
       "    </tr>\n",
       "    <tr>\n",
       "      <th>16</th>\n",
       "      <td>madeleine</td>\n",
       "      <td>albright</td>\n",
       "    </tr>\n",
       "    <tr>\n",
       "      <th>17</th>\n",
       "      <td>olga</td>\n",
       "      <td>kuzkova</td>\n",
       "    </tr>\n",
       "    <tr>\n",
       "      <th>18</th>\n",
       "      <td>parce</td>\n",
       "      <td>qu</td>\n",
       "    </tr>\n",
       "    <tr>\n",
       "      <th>19</th>\n",
       "      <td>sdgwr</td>\n",
       "      <td>kmbk</td>\n",
       "    </tr>\n",
       "    <tr>\n",
       "      <th>20</th>\n",
       "      <td>thewhiteman</td>\n",
       "      <td>sbible</td>\n",
       "    </tr>\n",
       "    <tr>\n",
       "      <th>21</th>\n",
       "      <td>traumatically</td>\n",
       "      <td>punctuated</td>\n",
       "    </tr>\n",
       "    <tr>\n",
       "      <th>22</th>\n",
       "      <td>yszp</td>\n",
       "      <td>smxe</td>\n",
       "    </tr>\n",
       "    <tr>\n",
       "      <th>23</th>\n",
       "      <td>alums</td>\n",
       "      <td>bark</td>\n",
       "    </tr>\n",
       "    <tr>\n",
       "      <th>24</th>\n",
       "      <td>bwko</td>\n",
       "      <td>cll</td>\n",
       "    </tr>\n",
       "    <tr>\n",
       "      <th>25</th>\n",
       "      <td>ooga</td>\n",
       "      <td>booga</td>\n",
       "    </tr>\n",
       "    <tr>\n",
       "      <th>26</th>\n",
       "      <td>storage</td>\n",
       "      <td>canalblog</td>\n",
       "    </tr>\n",
       "    <tr>\n",
       "      <th>27</th>\n",
       "      <td>tel</td>\n",
       "      <td>aviv</td>\n",
       "    </tr>\n",
       "    <tr>\n",
       "      <th>28</th>\n",
       "      <td>terrier</td>\n",
       "      <td>alums</td>\n",
       "    </tr>\n",
       "    <tr>\n",
       "      <th>29</th>\n",
       "      <td>yik</td>\n",
       "      <td>yak</td>\n",
       "    </tr>\n",
       "    <tr>\n",
       "      <th>30</th>\n",
       "      <td>amber</td>\n",
       "      <td>ryland</td>\n",
       "    </tr>\n",
       "    <tr>\n",
       "      <th>31</th>\n",
       "      <td>anjem</td>\n",
       "      <td>choudary</td>\n",
       "    </tr>\n",
       "    <tr>\n",
       "      <th>32</th>\n",
       "      <td>bonding</td>\n",
       "      <td>pairs</td>\n",
       "    </tr>\n",
       "    <tr>\n",
       "      <th>33</th>\n",
       "      <td>creativityalliance</td>\n",
       "      <td>ebook</td>\n",
       "    </tr>\n",
       "    <tr>\n",
       "      <th>34</th>\n",
       "      <td>dumbarton</td>\n",
       "      <td>oaks</td>\n",
       "    </tr>\n",
       "    <tr>\n",
       "      <th>35</th>\n",
       "      <td>ebook</td>\n",
       "      <td>benklassen</td>\n",
       "    </tr>\n",
       "    <tr>\n",
       "      <th>36</th>\n",
       "      <td>elon</td>\n",
       "      <td>musk</td>\n",
       "    </tr>\n",
       "    <tr>\n",
       "      <th>37</th>\n",
       "      <td>eva</td>\n",
       "      <td>agnes</td>\n",
       "    </tr>\n",
       "    <tr>\n",
       "      <th>38</th>\n",
       "      <td>jbisgs</td>\n",
       "      <td>kwozvpw</td>\n",
       "    </tr>\n",
       "    <tr>\n",
       "      <th>39</th>\n",
       "      <td>megyn</td>\n",
       "      <td>kelly</td>\n",
       "    </tr>\n",
       "    <tr>\n",
       "      <th>40</th>\n",
       "      <td>ondergaan</td>\n",
       "      <td>twee</td>\n",
       "    </tr>\n",
       "    <tr>\n",
       "      <th>41</th>\n",
       "      <td>pamela</td>\n",
       "      <td>geller</td>\n",
       "    </tr>\n",
       "    <tr>\n",
       "      <th>42</th>\n",
       "      <td>tot</td>\n",
       "      <td>driemaal</td>\n",
       "    </tr>\n",
       "    <tr>\n",
       "      <th>43</th>\n",
       "      <td>wigs</td>\n",
       "      <td>weaves</td>\n",
       "    </tr>\n",
       "    <tr>\n",
       "      <th>44</th>\n",
       "      <td>abe</td>\n",
       "      <td>foxman</td>\n",
       "    </tr>\n",
       "    <tr>\n",
       "      <th>45</th>\n",
       "      <td>amon</td>\n",
       "      <td>amarth</td>\n",
       "    </tr>\n",
       "    <tr>\n",
       "      <th>46</th>\n",
       "      <td>bl</td>\n",
       "      <td>ots</td>\n",
       "    </tr>\n",
       "    <tr>\n",
       "      <th>47</th>\n",
       "      <td>buenos</td>\n",
       "      <td>aires</td>\n",
       "    </tr>\n",
       "    <tr>\n",
       "      <th>48</th>\n",
       "      <td>cll</td>\n",
       "      <td>ks</td>\n",
       "    </tr>\n",
       "    <tr>\n",
       "      <th>49</th>\n",
       "      <td>deus</td>\n",
       "      <td>vult</td>\n",
       "    </tr>\n",
       "  </tbody>\n",
       "</table>\n",
       "</div>"
      ],
      "text/plain": [
       "                word_1       word_2\n",
       "0                aboda         zara\n",
       "1                agnes      selsing\n",
       "2                 banu      qurayza\n",
       "3           benklassen  thewhiteman\n",
       "4                  bix         nood\n",
       "5                caleb     shumaker\n",
       "6                clint     eastwood\n",
       "7     convertstometric          xhk\n",
       "8               fiddle       jshell\n",
       "9                golda         meir\n",
       "10              grassy        knoll\n",
       "11             habonim         dror\n",
       "12               jisra        liten\n",
       "13                juri         lina\n",
       "14                 kim         jong\n",
       "15             knuckle     draggers\n",
       "16           madeleine     albright\n",
       "17                olga      kuzkova\n",
       "18               parce           qu\n",
       "19               sdgwr         kmbk\n",
       "20         thewhiteman       sbible\n",
       "21       traumatically   punctuated\n",
       "22                yszp         smxe\n",
       "23               alums         bark\n",
       "24                bwko          cll\n",
       "25                ooga        booga\n",
       "26             storage    canalblog\n",
       "27                 tel         aviv\n",
       "28             terrier        alums\n",
       "29                 yik          yak\n",
       "30               amber       ryland\n",
       "31               anjem     choudary\n",
       "32             bonding        pairs\n",
       "33  creativityalliance        ebook\n",
       "34           dumbarton         oaks\n",
       "35               ebook   benklassen\n",
       "36                elon         musk\n",
       "37                 eva        agnes\n",
       "38              jbisgs      kwozvpw\n",
       "39               megyn        kelly\n",
       "40           ondergaan         twee\n",
       "41              pamela       geller\n",
       "42                 tot     driemaal\n",
       "43                wigs       weaves\n",
       "44                 abe       foxman\n",
       "45                amon       amarth\n",
       "46                  bl          ots\n",
       "47              buenos        aires\n",
       "48                 cll           ks\n",
       "49                deus         vult"
      ]
     },
     "execution_count": 34,
     "metadata": {},
     "output_type": "execute_result"
    }
   ],
   "source": [
    "# Visualize top 50 bigrams as a dataframe:\n",
    "bigram_df = pd.DataFrame(top50_bigrams, columns = ['word_1', 'word_2']) \n",
    "bigram_df"
   ]
  },
  {
   "cell_type": "code",
   "execution_count": 35,
   "metadata": {
    "collapsed": true
   },
   "outputs": [],
   "source": [
    "# Save top 50 bigrams\n",
    "#bigram_df.to_csv('Top50Bigrams.csv')"
   ]
  },
  {
   "cell_type": "code",
   "execution_count": 36,
   "metadata": {
    "collapsed": false
   },
   "outputs": [
    {
     "name": "stdout",
     "output_type": "stream",
     "text": [
      "offensive_words.csv      offensive_words_rev.csv\r\n"
     ]
    }
   ],
   "source": [
    "%ls off*.csv"
   ]
  },
  {
   "cell_type": "code",
   "execution_count": 37,
   "metadata": {
    "collapsed": false
   },
   "outputs": [
    {
     "data": {
      "text/html": [
       "<div>\n",
       "<table border=\"1\" class=\"dataframe\">\n",
       "  <thead>\n",
       "    <tr style=\"text-align: right;\">\n",
       "      <th></th>\n",
       "      <th>term</th>\n",
       "    </tr>\n",
       "  </thead>\n",
       "  <tbody>\n",
       "    <tr>\n",
       "      <th>0</th>\n",
       "      <td>cunt</td>\n",
       "    </tr>\n",
       "    <tr>\n",
       "      <th>1</th>\n",
       "      <td>punt</td>\n",
       "    </tr>\n",
       "    <tr>\n",
       "      <th>2</th>\n",
       "      <td>abbo</td>\n",
       "    </tr>\n",
       "    <tr>\n",
       "      <th>3</th>\n",
       "      <td>abo</td>\n",
       "    </tr>\n",
       "    <tr>\n",
       "      <th>4</th>\n",
       "      <td>abortion</td>\n",
       "    </tr>\n",
       "  </tbody>\n",
       "</table>\n",
       "</div>"
      ],
      "text/plain": [
       "       term\n",
       "0      cunt\n",
       "1      punt\n",
       "2      abbo\n",
       "3       abo\n",
       "4  abortion"
      ]
     },
     "execution_count": 37,
     "metadata": {},
     "output_type": "execute_result"
    }
   ],
   "source": [
    "#Load list of offensive terms (collected and cleaned from four different internet sources):\n",
    "offensive = pd.read_csv('offensive_words_rev.csv')\n",
    "offensive.head()"
   ]
  },
  {
   "cell_type": "code",
   "execution_count": 38,
   "metadata": {
    "collapsed": false
   },
   "outputs": [
    {
     "name": "stdout",
     "output_type": "stream",
     "text": [
      "<class 'pandas.core.frame.DataFrame'>\n",
      "Int64Index: 2311 entries, 0 to 2310\n",
      "Data columns (total 1 columns):\n",
      "term    2311 non-null object\n",
      "dtypes: object(1)\n",
      "memory usage: 36.1+ KB\n"
     ]
    }
   ],
   "source": [
    "offensive.info()"
   ]
  },
  {
   "cell_type": "code",
   "execution_count": 39,
   "metadata": {
    "collapsed": false
   },
   "outputs": [
    {
     "data": {
      "text/plain": [
       "2067"
      ]
     },
     "execution_count": 39,
     "metadata": {},
     "output_type": "execute_result"
    }
   ],
   "source": [
    "#Remove duplicates and make all words lower case\n",
    "offensive.term = offensive.term.apply(lambda x: x.lower()) #set all words to lower case\n",
    "offensive.drop_duplicates(inplace = True)\n",
    "len(offensive)"
   ]
  },
  {
   "cell_type": "code",
   "execution_count": 40,
   "metadata": {
    "collapsed": false
   },
   "outputs": [
    {
     "data": {
      "text/plain": [
       "pandas.core.series.Series"
      ]
     },
     "execution_count": 40,
     "metadata": {},
     "output_type": "execute_result"
    }
   ],
   "source": [
    "#Reindex series\n",
    "offensive.reset_index(level=0, inplace=True)\n",
    "offensive = offensive['term']\n",
    "type(offensive)"
   ]
  },
  {
   "cell_type": "code",
   "execution_count": 41,
   "metadata": {
    "collapsed": false
   },
   "outputs": [
    {
     "data": {
      "text/html": [
       "<div>\n",
       "<table border=\"1\" class=\"dataframe\">\n",
       "  <thead>\n",
       "    <tr style=\"text-align: right;\">\n",
       "      <th></th>\n",
       "      <th>term</th>\n",
       "    </tr>\n",
       "  </thead>\n",
       "  <tbody>\n",
       "    <tr>\n",
       "      <th>2062</th>\n",
       "      <td>zigabo</td>\n",
       "    </tr>\n",
       "    <tr>\n",
       "      <th>2063</th>\n",
       "      <td>zipperhead</td>\n",
       "    </tr>\n",
       "    <tr>\n",
       "      <th>2064</th>\n",
       "      <td>zit</td>\n",
       "    </tr>\n",
       "    <tr>\n",
       "      <th>2065</th>\n",
       "      <td>face</td>\n",
       "    </tr>\n",
       "    <tr>\n",
       "      <th>2066</th>\n",
       "      <td>zubb</td>\n",
       "    </tr>\n",
       "  </tbody>\n",
       "</table>\n",
       "</div>"
      ],
      "text/plain": [
       "            term\n",
       "2062      zigabo\n",
       "2063  zipperhead\n",
       "2064         zit\n",
       "2065        face\n",
       "2066        zubb"
      ]
     },
     "execution_count": 41,
     "metadata": {},
     "output_type": "execute_result"
    }
   ],
   "source": [
    "pd.DataFrame(offensive).tail()"
   ]
  },
  {
   "cell_type": "code",
   "execution_count": 42,
   "metadata": {
    "collapsed": true
   },
   "outputs": [],
   "source": [
    "def offensive_count(token):\n",
    "    \"\"\"\n",
    "    Function that takes a list of tokens and returns \n",
    "    a list of tuples counting membership (yes, no) in the\n",
    "    list of offensive words (token, membership)\n",
    "    \"\"\"\n",
    "    if token in offensive.tolist():\n",
    "        result = (token, 1)\n",
    "    else:\n",
    "        result = (token, 0)\n",
    "    return result"
   ]
  },
  {
   "cell_type": "code",
   "execution_count": 43,
   "metadata": {
    "collapsed": false
   },
   "outputs": [],
   "source": [
    "# Apply the offensive count function to the list of tokens, group results and visualize in a dataframe:\n",
    "offensive_map = pd.DataFrame(map(offensive_count, word_list), columns = ['token', 'count']).groupby('token').sum()"
   ]
  },
  {
   "cell_type": "code",
   "execution_count": 44,
   "metadata": {
    "collapsed": false
   },
   "outputs": [
    {
     "data": {
      "text/html": [
       "<div>\n",
       "<table border=\"1\" class=\"dataframe\">\n",
       "  <thead>\n",
       "    <tr style=\"text-align: right;\">\n",
       "      <th></th>\n",
       "      <th>token</th>\n",
       "      <th>count</th>\n",
       "    </tr>\n",
       "  </thead>\n",
       "  <tbody>\n",
       "    <tr>\n",
       "      <th>0</th>\n",
       "      <td>aa</td>\n",
       "      <td>0</td>\n",
       "    </tr>\n",
       "    <tr>\n",
       "      <th>1</th>\n",
       "      <td>aaa</td>\n",
       "      <td>0</td>\n",
       "    </tr>\n",
       "    <tr>\n",
       "      <th>2</th>\n",
       "      <td>aaaaaaaa</td>\n",
       "      <td>0</td>\n",
       "    </tr>\n",
       "    <tr>\n",
       "      <th>3</th>\n",
       "      <td>aaaaaaaaali</td>\n",
       "      <td>0</td>\n",
       "    </tr>\n",
       "    <tr>\n",
       "      <th>4</th>\n",
       "      <td>aaaaaaaaapy</td>\n",
       "      <td>0</td>\n",
       "    </tr>\n",
       "  </tbody>\n",
       "</table>\n",
       "</div>"
      ],
      "text/plain": [
       "         token  count\n",
       "0           aa      0\n",
       "1          aaa      0\n",
       "2     aaaaaaaa      0\n",
       "3  aaaaaaaaali      0\n",
       "4  aaaaaaaaapy      0"
      ]
     },
     "execution_count": 44,
     "metadata": {},
     "output_type": "execute_result"
    }
   ],
   "source": [
    "# Reset the dataframe's index (always be sure whether you want to do this in place!)\n",
    "offensive_map.reset_index(level = 0, inplace = True)\n",
    "offensive_map.head()"
   ]
  },
  {
   "cell_type": "code",
   "execution_count": 45,
   "metadata": {
    "collapsed": false
   },
   "outputs": [
    {
     "data": {
      "text/html": [
       "<div>\n",
       "<table border=\"1\" class=\"dataframe\">\n",
       "  <thead>\n",
       "    <tr style=\"text-align: right;\">\n",
       "      <th></th>\n",
       "      <th>token</th>\n",
       "      <th>count</th>\n",
       "    </tr>\n",
       "  </thead>\n",
       "  <tbody>\n",
       "    <tr>\n",
       "      <th>552</th>\n",
       "      <td>africa</td>\n",
       "      <td>465</td>\n",
       "    </tr>\n",
       "    <tr>\n",
       "      <th>554</th>\n",
       "      <td>african</td>\n",
       "      <td>266</td>\n",
       "    </tr>\n",
       "    <tr>\n",
       "      <th>965</th>\n",
       "      <td>american</td>\n",
       "      <td>659</td>\n",
       "    </tr>\n",
       "    <tr>\n",
       "      <th>1653</th>\n",
       "      <td>asian</td>\n",
       "      <td>206</td>\n",
       "    </tr>\n",
       "    <tr>\n",
       "      <th>2952</th>\n",
       "      <td>black</td>\n",
       "      <td>2042</td>\n",
       "    </tr>\n",
       "    <tr>\n",
       "      <th>2989</th>\n",
       "      <td>blacks</td>\n",
       "      <td>1142</td>\n",
       "    </tr>\n",
       "    <tr>\n",
       "      <th>3791</th>\n",
       "      <td>bullshit</td>\n",
       "      <td>219</td>\n",
       "    </tr>\n",
       "    <tr>\n",
       "      <th>5484</th>\n",
       "      <td>communist</td>\n",
       "      <td>287</td>\n",
       "    </tr>\n",
       "    <tr>\n",
       "      <th>6393</th>\n",
       "      <td>crime</td>\n",
       "      <td>587</td>\n",
       "    </tr>\n",
       "    <tr>\n",
       "      <th>6948</th>\n",
       "      <td>death</td>\n",
       "      <td>208</td>\n",
       "    </tr>\n",
       "    <tr>\n",
       "      <th>9655</th>\n",
       "      <td>ethnic</td>\n",
       "      <td>374</td>\n",
       "    </tr>\n",
       "    <tr>\n",
       "      <th>9715</th>\n",
       "      <td>european</td>\n",
       "      <td>638</td>\n",
       "    </tr>\n",
       "    <tr>\n",
       "      <th>10633</th>\n",
       "      <td>fight</td>\n",
       "      <td>233</td>\n",
       "    </tr>\n",
       "    <tr>\n",
       "      <th>11391</th>\n",
       "      <td>fuck</td>\n",
       "      <td>630</td>\n",
       "    </tr>\n",
       "    <tr>\n",
       "      <th>11402</th>\n",
       "      <td>fucking</td>\n",
       "      <td>660</td>\n",
       "    </tr>\n",
       "    <tr>\n",
       "      <th>11852</th>\n",
       "      <td>german</td>\n",
       "      <td>275</td>\n",
       "    </tr>\n",
       "    <tr>\n",
       "      <th>12083</th>\n",
       "      <td>god</td>\n",
       "      <td>352</td>\n",
       "    </tr>\n",
       "    <tr>\n",
       "      <th>12798</th>\n",
       "      <td>hard</td>\n",
       "      <td>266</td>\n",
       "    </tr>\n",
       "    <tr>\n",
       "      <th>13306</th>\n",
       "      <td>hitler</td>\n",
       "      <td>352</td>\n",
       "    </tr>\n",
       "    <tr>\n",
       "      <th>15182</th>\n",
       "      <td>israel</td>\n",
       "      <td>844</td>\n",
       "    </tr>\n",
       "    <tr>\n",
       "      <th>15437</th>\n",
       "      <td>jew</td>\n",
       "      <td>704</td>\n",
       "    </tr>\n",
       "    <tr>\n",
       "      <th>15462</th>\n",
       "      <td>jewish</td>\n",
       "      <td>1312</td>\n",
       "    </tr>\n",
       "    <tr>\n",
       "      <th>16008</th>\n",
       "      <td>kill</td>\n",
       "      <td>280</td>\n",
       "    </tr>\n",
       "    <tr>\n",
       "      <th>16011</th>\n",
       "      <td>killed</td>\n",
       "      <td>235</td>\n",
       "    </tr>\n",
       "    <tr>\n",
       "      <th>16771</th>\n",
       "      <td>liberal</td>\n",
       "      <td>302</td>\n",
       "    </tr>\n",
       "    <tr>\n",
       "      <th>18354</th>\n",
       "      <td>minority</td>\n",
       "      <td>237</td>\n",
       "    </tr>\n",
       "    <tr>\n",
       "      <th>18986</th>\n",
       "      <td>murder</td>\n",
       "      <td>208</td>\n",
       "    </tr>\n",
       "    <tr>\n",
       "      <th>19020</th>\n",
       "      <td>muslim</td>\n",
       "      <td>470</td>\n",
       "    </tr>\n",
       "    <tr>\n",
       "      <th>19561</th>\n",
       "      <td>nigger</td>\n",
       "      <td>350</td>\n",
       "    </tr>\n",
       "    <tr>\n",
       "      <th>19577</th>\n",
       "      <td>niggers</td>\n",
       "      <td>498</td>\n",
       "    </tr>\n",
       "    <tr>\n",
       "      <th>22606</th>\n",
       "      <td>propaganda</td>\n",
       "      <td>249</td>\n",
       "    </tr>\n",
       "    <tr>\n",
       "      <th>23207</th>\n",
       "      <td>racial</td>\n",
       "      <td>469</td>\n",
       "    </tr>\n",
       "    <tr>\n",
       "      <th>23223</th>\n",
       "      <td>racist</td>\n",
       "      <td>957</td>\n",
       "    </tr>\n",
       "    <tr>\n",
       "      <th>23387</th>\n",
       "      <td>rape</td>\n",
       "      <td>277</td>\n",
       "    </tr>\n",
       "    <tr>\n",
       "      <th>25810</th>\n",
       "      <td>sex</td>\n",
       "      <td>207</td>\n",
       "    </tr>\n",
       "    <tr>\n",
       "      <th>26042</th>\n",
       "      <td>shit</td>\n",
       "      <td>761</td>\n",
       "    </tr>\n",
       "    <tr>\n",
       "      <th>27769</th>\n",
       "      <td>stupid</td>\n",
       "      <td>301</td>\n",
       "    </tr>\n",
       "    <tr>\n",
       "      <th>30942</th>\n",
       "      <td>violence</td>\n",
       "      <td>261</td>\n",
       "    </tr>\n",
       "    <tr>\n",
       "      <th>31622</th>\n",
       "      <td>whites</td>\n",
       "      <td>2127</td>\n",
       "    </tr>\n",
       "    <tr>\n",
       "      <th>31862</th>\n",
       "      <td>wn</td>\n",
       "      <td>202</td>\n",
       "    </tr>\n",
       "  </tbody>\n",
       "</table>\n",
       "</div>"
      ],
      "text/plain": [
       "            token  count\n",
       "552        africa    465\n",
       "554       african    266\n",
       "965      american    659\n",
       "1653        asian    206\n",
       "2952        black   2042\n",
       "2989       blacks   1142\n",
       "3791     bullshit    219\n",
       "5484    communist    287\n",
       "6393        crime    587\n",
       "6948        death    208\n",
       "9655       ethnic    374\n",
       "9715     european    638\n",
       "10633       fight    233\n",
       "11391        fuck    630\n",
       "11402     fucking    660\n",
       "11852      german    275\n",
       "12083         god    352\n",
       "12798        hard    266\n",
       "13306      hitler    352\n",
       "15182      israel    844\n",
       "15437         jew    704\n",
       "15462      jewish   1312\n",
       "16008        kill    280\n",
       "16011      killed    235\n",
       "16771     liberal    302\n",
       "18354    minority    237\n",
       "18986      murder    208\n",
       "19020      muslim    470\n",
       "19561      nigger    350\n",
       "19577     niggers    498\n",
       "22606  propaganda    249\n",
       "23207      racial    469\n",
       "23223      racist    957\n",
       "23387        rape    277\n",
       "25810         sex    207\n",
       "26042        shit    761\n",
       "27769      stupid    301\n",
       "30942    violence    261\n",
       "31622      whites   2127\n",
       "31862          wn    202"
      ]
     },
     "execution_count": 45,
     "metadata": {},
     "output_type": "execute_result"
    }
   ],
   "source": [
    "# Show most frequent offensive words (count greater than 200):\n",
    "offensive_map[offensive_map['count'] > 200] #40 tokens"
   ]
  },
  {
   "cell_type": "code",
   "execution_count": 46,
   "metadata": {
    "collapsed": true
   },
   "outputs": [],
   "source": [
    "# Create a function to return a simple \"offensiveness score (%)\" from a reddit comment:\n",
    "def offensive_score(comment):\n",
    "    \"\"\"\n",
    "    Function that takes a comment (string of words), \n",
    "    counts membership of each word (yes or no) in the list \n",
    "    of offensive words (word, membership), and returns the\n",
    "    sum of words in the offensive list divided by the total\n",
    "    number of words in the comment.\n",
    "    \"\"\"\n",
    "    results = []\n",
    "    for token in comment.split():\n",
    "        if token in offensive.tolist():\n",
    "            results.append((token, 1))\n",
    "        else:\n",
    "            results.append((token, 0))\n",
    "    \n",
    "    return float(sum([item[1] for item in results])) / len(results)"
   ]
  },
  {
   "cell_type": "code",
   "execution_count": 47,
   "metadata": {
    "collapsed": false
   },
   "outputs": [
    {
     "name": "stdout",
     "output_type": "stream",
     "text": [
      "I did my part.  Did you?\n"
     ]
    },
    {
     "data": {
      "text/plain": [
       "''"
      ]
     },
     "execution_count": 47,
     "metadata": {},
     "output_type": "execute_result"
    }
   ],
   "source": [
    "#Example of comment made up entirely of words in the stopwords list:\n",
    "print data.body[137]\n",
    "content[137]"
   ]
  },
  {
   "cell_type": "code",
   "execution_count": 48,
   "metadata": {
    "collapsed": false
   },
   "outputs": [
    {
     "name": "stdout",
     "output_type": "stream",
     "text": [
      "\n",
      "22164\n"
     ]
    },
    {
     "data": {
      "text/plain": [
       "109"
      ]
     },
     "execution_count": 48,
     "metadata": {},
     "output_type": "execute_result"
    }
   ],
   "source": [
    "#Some comments were processed so that they resulted in no content, thus causing division by zero\n",
    "print clean_content(data.body[137])\n",
    "print len(content)\n",
    "len(content[content == '']) #109 empty comments after processing"
   ]
  },
  {
   "cell_type": "code",
   "execution_count": 49,
   "metadata": {
    "collapsed": false
   },
   "outputs": [
    {
     "data": {
      "text/plain": [
       "0    0.200000\n",
       "1    0.066667\n",
       "2    0.000000\n",
       "3    0.039801\n",
       "4    0.051724\n",
       "Name: body, dtype: float64"
      ]
     },
     "execution_count": 49,
     "metadata": {},
     "output_type": "execute_result"
    }
   ],
   "source": [
    "# Apply scoring function to text content\n",
    "text_series = content[content != ''] #disregard empty values (no content after processing comment)\n",
    "scored_content = text_series.apply(lambda x: offensive_score(x))\n",
    "scored_content.head() #pandas series with scores"
   ]
  },
  {
   "cell_type": "code",
   "execution_count": 50,
   "metadata": {
    "collapsed": false
   },
   "outputs": [
    {
     "data": {
      "text/html": [
       "<div>\n",
       "<table border=\"1\" class=\"dataframe\">\n",
       "  <thead>\n",
       "    <tr style=\"text-align: right;\">\n",
       "      <th></th>\n",
       "      <th>body</th>\n",
       "      <th>score</th>\n",
       "    </tr>\n",
       "  </thead>\n",
       "  <tbody>\n",
       "    <tr>\n",
       "      <th>0</th>\n",
       "      <td>remind whites minority california need stop ca...</td>\n",
       "      <td>0.200000</td>\n",
       "    </tr>\n",
       "    <tr>\n",
       "      <th>1</th>\n",
       "      <td>par course influx limp wristed fag apologists ...</td>\n",
       "      <td>0.066667</td>\n",
       "    </tr>\n",
       "    <tr>\n",
       "      <th>2</th>\n",
       "      <td>deleted</td>\n",
       "      <td>0.000000</td>\n",
       "    </tr>\n",
       "    <tr>\n",
       "      <th>3</th>\n",
       "      <td>slavery arse witness testimony king dahomey bp...</td>\n",
       "      <td>0.039801</td>\n",
       "    </tr>\n",
       "    <tr>\n",
       "      <th>4</th>\n",
       "      <td>kill nazis purged women poc lgbt people contro...</td>\n",
       "      <td>0.051724</td>\n",
       "    </tr>\n",
       "  </tbody>\n",
       "</table>\n",
       "</div>"
      ],
      "text/plain": [
       "                                                body     score\n",
       "0  remind whites minority california need stop ca...  0.200000\n",
       "1  par course influx limp wristed fag apologists ...  0.066667\n",
       "2                                            deleted  0.000000\n",
       "3  slavery arse witness testimony king dahomey bp...  0.039801\n",
       "4  kill nazis purged women poc lgbt people contro...  0.051724"
      ]
     },
     "execution_count": 50,
     "metadata": {},
     "output_type": "execute_result"
    }
   ],
   "source": [
    "# Create a dataframe  and add column to show the offensiveness score for each comment (row):\n",
    "df_scored = pd.DataFrame(text_series)\n",
    "df_scored['score'] = scored_content\n",
    "df_scored.head()"
   ]
  },
  {
   "cell_type": "code",
   "execution_count": 51,
   "metadata": {
    "collapsed": false
   },
   "outputs": [
    {
     "name": "stdout",
     "output_type": "stream",
     "text": [
      "<class 'pandas.core.frame.DataFrame'>\n",
      "Int64Index: 22055 entries, 0 to 22164\n",
      "Data columns (total 2 columns):\n",
      "body     22055 non-null object\n",
      "score    22055 non-null float64\n",
      "dtypes: float64(1), object(1)\n",
      "memory usage: 516.9+ KB\n"
     ]
    }
   ],
   "source": [
    "df_scored.info()"
   ]
  },
  {
   "cell_type": "code",
   "execution_count": 52,
   "metadata": {
    "collapsed": false
   },
   "outputs": [
    {
     "data": {
      "text/html": [
       "<div>\n",
       "<table border=\"1\" class=\"dataframe\">\n",
       "  <thead>\n",
       "    <tr style=\"text-align: right;\">\n",
       "      <th></th>\n",
       "      <th>body</th>\n",
       "      <th>score</th>\n",
       "    </tr>\n",
       "  </thead>\n",
       "  <tbody>\n",
       "    <tr>\n",
       "      <th>1758</th>\n",
       "      <td>slave god exist slave world shit fight</td>\n",
       "      <td>0.714286</td>\n",
       "    </tr>\n",
       "    <tr>\n",
       "      <th>3806</th>\n",
       "      <td>like israel fight fucking towelhead terrorists...</td>\n",
       "      <td>0.727273</td>\n",
       "    </tr>\n",
       "    <tr>\n",
       "      <th>9501</th>\n",
       "      <td>cracker mad cracker mad lol</td>\n",
       "      <td>0.800000</td>\n",
       "    </tr>\n",
       "    <tr>\n",
       "      <th>10409</th>\n",
       "      <td>blacks racist whites whites attention</td>\n",
       "      <td>0.800000</td>\n",
       "    </tr>\n",
       "    <tr>\n",
       "      <th>15408</th>\n",
       "      <td>whites racist soon shit</td>\n",
       "      <td>0.750000</td>\n",
       "    </tr>\n",
       "    <tr>\n",
       "      <th>15483</th>\n",
       "      <td>whites chanting blacks fucking sick</td>\n",
       "      <td>0.800000</td>\n",
       "    </tr>\n",
       "    <tr>\n",
       "      <th>17830</th>\n",
       "      <td>fuck niggers jew tells</td>\n",
       "      <td>0.750000</td>\n",
       "    </tr>\n",
       "    <tr>\n",
       "      <th>19235</th>\n",
       "      <td>dumb bitch probably deserved whites fucking suck</td>\n",
       "      <td>0.714286</td>\n",
       "    </tr>\n",
       "    <tr>\n",
       "      <th>20970</th>\n",
       "      <td>shoot niggers let rot</td>\n",
       "      <td>0.750000</td>\n",
       "    </tr>\n",
       "    <tr>\n",
       "      <th>21946</th>\n",
       "      <td>black dick sucking asshole</td>\n",
       "      <td>0.750000</td>\n",
       "    </tr>\n",
       "  </tbody>\n",
       "</table>\n",
       "</div>"
      ],
      "text/plain": [
       "                                                    body     score\n",
       "1758              slave god exist slave world shit fight  0.714286\n",
       "3806   like israel fight fucking towelhead terrorists...  0.727273\n",
       "9501                         cracker mad cracker mad lol  0.800000\n",
       "10409              blacks racist whites whites attention  0.800000\n",
       "15408                            whites racist soon shit  0.750000\n",
       "15483                whites chanting blacks fucking sick  0.800000\n",
       "17830                             fuck niggers jew tells  0.750000\n",
       "19235   dumb bitch probably deserved whites fucking suck  0.714286\n",
       "20970                              shoot niggers let rot  0.750000\n",
       "21946                         black dick sucking asshole  0.750000"
      ]
     },
     "execution_count": 52,
     "metadata": {},
     "output_type": "execute_result"
    }
   ],
   "source": [
    "# Show all commenst with score greater than 70% but below 100%:\n",
    "df_scored[(df_scored['score'] > 0.7) & (df_scored['score'] < 1)]"
   ]
  },
  {
   "cell_type": "code",
   "execution_count": 53,
   "metadata": {
    "collapsed": false
   },
   "outputs": [
    {
     "data": {
      "text/plain": [
       "'That dumb bitch probably deserved it.\\n\\nWhites fucking suck.'"
      ]
     },
     "execution_count": 53,
     "metadata": {},
     "output_type": "execute_result"
    }
   ],
   "source": [
    "# Read raw text content of some of the above comments:\n",
    "data.body[19235] "
   ]
  },
  {
   "cell_type": "code",
   "execution_count": 54,
   "metadata": {
    "collapsed": false
   },
   "outputs": [
    {
     "data": {
      "text/plain": [
       "'Blacks are more racist than whites but whites get all the attention for it'"
      ]
     },
     "execution_count": 54,
     "metadata": {},
     "output_type": "execute_result"
    }
   ],
   "source": [
    "data.body[10409]"
   ]
  },
  {
   "cell_type": "code",
   "execution_count": 55,
   "metadata": {
    "collapsed": false
   },
   "outputs": [
    {
     "data": {
      "text/html": [
       "<div>\n",
       "<table border=\"1\" class=\"dataframe\">\n",
       "  <thead>\n",
       "    <tr style=\"text-align: right;\">\n",
       "      <th></th>\n",
       "      <th>body</th>\n",
       "      <th>score</th>\n",
       "    </tr>\n",
       "  </thead>\n",
       "  <tbody>\n",
       "    <tr>\n",
       "      <th>9501</th>\n",
       "      <td>cracker mad cracker mad lol</td>\n",
       "      <td>0.800000</td>\n",
       "    </tr>\n",
       "    <tr>\n",
       "      <th>10409</th>\n",
       "      <td>blacks racist whites whites attention</td>\n",
       "      <td>0.800000</td>\n",
       "    </tr>\n",
       "    <tr>\n",
       "      <th>15483</th>\n",
       "      <td>whites chanting blacks fucking sick</td>\n",
       "      <td>0.800000</td>\n",
       "    </tr>\n",
       "    <tr>\n",
       "      <th>21946</th>\n",
       "      <td>black dick sucking asshole</td>\n",
       "      <td>0.750000</td>\n",
       "    </tr>\n",
       "    <tr>\n",
       "      <th>15408</th>\n",
       "      <td>whites racist soon shit</td>\n",
       "      <td>0.750000</td>\n",
       "    </tr>\n",
       "    <tr>\n",
       "      <th>20970</th>\n",
       "      <td>shoot niggers let rot</td>\n",
       "      <td>0.750000</td>\n",
       "    </tr>\n",
       "    <tr>\n",
       "      <th>17830</th>\n",
       "      <td>fuck niggers jew tells</td>\n",
       "      <td>0.750000</td>\n",
       "    </tr>\n",
       "    <tr>\n",
       "      <th>3806</th>\n",
       "      <td>like israel fight fucking towelhead terrorists...</td>\n",
       "      <td>0.727273</td>\n",
       "    </tr>\n",
       "    <tr>\n",
       "      <th>19235</th>\n",
       "      <td>dumb bitch probably deserved whites fucking suck</td>\n",
       "      <td>0.714286</td>\n",
       "    </tr>\n",
       "    <tr>\n",
       "      <th>1758</th>\n",
       "      <td>slave god exist slave world shit fight</td>\n",
       "      <td>0.714286</td>\n",
       "    </tr>\n",
       "    <tr>\n",
       "      <th>16144</th>\n",
       "      <td>guy fucking nigger</td>\n",
       "      <td>0.666667</td>\n",
       "    </tr>\n",
       "    <tr>\n",
       "      <th>19612</th>\n",
       "      <td>god damned travesty</td>\n",
       "      <td>0.666667</td>\n",
       "    </tr>\n",
       "    <tr>\n",
       "      <th>18068</th>\n",
       "      <td>fucking jew huh</td>\n",
       "      <td>0.666667</td>\n",
       "    </tr>\n",
       "    <tr>\n",
       "      <th>15256</th>\n",
       "      <td>hell fuck country</td>\n",
       "      <td>0.666667</td>\n",
       "    </tr>\n",
       "    <tr>\n",
       "      <th>283</th>\n",
       "      <td>makes fucking sick</td>\n",
       "      <td>0.666667</td>\n",
       "    </tr>\n",
       "    <tr>\n",
       "      <th>8831</th>\n",
       "      <td>fucking niggers sickening</td>\n",
       "      <td>0.666667</td>\n",
       "    </tr>\n",
       "    <tr>\n",
       "      <th>5328</th>\n",
       "      <td>jewish pedophiles goyim</td>\n",
       "      <td>0.666667</td>\n",
       "    </tr>\n",
       "    <tr>\n",
       "      <th>15187</th>\n",
       "      <td>shit stir god damn monkey race</td>\n",
       "      <td>0.666667</td>\n",
       "    </tr>\n",
       "    <tr>\n",
       "      <th>18837</th>\n",
       "      <td>jew gotta jew</td>\n",
       "      <td>0.666667</td>\n",
       "    </tr>\n",
       "    <tr>\n",
       "      <th>19485</th>\n",
       "      <td>anti whites cancer</td>\n",
       "      <td>0.666667</td>\n",
       "    </tr>\n",
       "  </tbody>\n",
       "</table>\n",
       "</div>"
      ],
      "text/plain": [
       "                                                    body     score\n",
       "9501                         cracker mad cracker mad lol  0.800000\n",
       "10409              blacks racist whites whites attention  0.800000\n",
       "15483                whites chanting blacks fucking sick  0.800000\n",
       "21946                         black dick sucking asshole  0.750000\n",
       "15408                            whites racist soon shit  0.750000\n",
       "20970                              shoot niggers let rot  0.750000\n",
       "17830                             fuck niggers jew tells  0.750000\n",
       "3806   like israel fight fucking towelhead terrorists...  0.727273\n",
       "19235   dumb bitch probably deserved whites fucking suck  0.714286\n",
       "1758              slave god exist slave world shit fight  0.714286\n",
       "16144                                 guy fucking nigger  0.666667\n",
       "19612                                god damned travesty  0.666667\n",
       "18068                                    fucking jew huh  0.666667\n",
       "15256                                  hell fuck country  0.666667\n",
       "283                                   makes fucking sick  0.666667\n",
       "8831                           fucking niggers sickening  0.666667\n",
       "5328                             jewish pedophiles goyim  0.666667\n",
       "15187                     shit stir god damn monkey race  0.666667\n",
       "18837                                      jew gotta jew  0.666667\n",
       "19485                                 anti whites cancer  0.666667"
      ]
     },
     "execution_count": 55,
     "metadata": {},
     "output_type": "execute_result"
    }
   ],
   "source": [
    "# Show the 20 most offensive scored comments (less than 100%):\n",
    "df_scored[df_scored['score'] < 1].sort(columns='score', axis=0, ascending=False).head(20)"
   ]
  },
  {
   "cell_type": "code",
   "execution_count": 56,
   "metadata": {
    "collapsed": false
   },
   "outputs": [
    {
     "data": {
      "text/plain": [
       "body                      They're more whites chanting then blacks. Fuck...\n",
       "score_hidden                                                            NaN\n",
       "archived                                                                NaN\n",
       "name                                                                    NaN\n",
       "author                                                            PSYOP14EE\n",
       "author_flair_text                                                       NaN\n",
       "downs                                                                   NaN\n",
       "created_utc                                             2015-11-16 15:46:33\n",
       "subreddit_id                                                       t5_2rjto\n",
       "link_id                                                           t3_3t00by\n",
       "parent_id                                                         t3_3t00by\n",
       "score                                                                     5\n",
       "retrieved_on                                            2015-12-11 11:34:52\n",
       "controversiality                                                          0\n",
       "gilded                                                                    0\n",
       "id                                                                  cx24vjk\n",
       "subreddit                                                       WhiteRights\n",
       "ups                                                                       5\n",
       "distinguished                                                           NaN\n",
       "author_flair_css_class                                                  NaN\n",
       "Name: 15483, dtype: object"
      ]
     },
     "execution_count": 56,
     "metadata": {},
     "output_type": "execute_result"
    }
   ],
   "source": [
    "data.ix[15483]"
   ]
  },
  {
   "cell_type": "code",
   "execution_count": 57,
   "metadata": {
    "collapsed": false
   },
   "outputs": [
    {
     "data": {
      "text/html": [
       "<div>\n",
       "<table border=\"1\" class=\"dataframe\">\n",
       "  <thead>\n",
       "    <tr style=\"text-align: right;\">\n",
       "      <th></th>\n",
       "      <th>body</th>\n",
       "      <th>score_hidden</th>\n",
       "      <th>archived</th>\n",
       "      <th>name</th>\n",
       "      <th>author</th>\n",
       "      <th>author_flair_text</th>\n",
       "      <th>downs</th>\n",
       "      <th>created_utc</th>\n",
       "      <th>subreddit_id</th>\n",
       "      <th>link_id</th>\n",
       "      <th>parent_id</th>\n",
       "      <th>score</th>\n",
       "      <th>retrieved_on</th>\n",
       "      <th>controversiality</th>\n",
       "      <th>gilded</th>\n",
       "      <th>id</th>\n",
       "      <th>subreddit</th>\n",
       "      <th>ups</th>\n",
       "      <th>distinguished</th>\n",
       "      <th>author_flair_css_class</th>\n",
       "    </tr>\n",
       "  </thead>\n",
       "  <tbody>\n",
       "    <tr>\n",
       "      <th>1758</th>\n",
       "      <td>I'm not a slave to a god that doesn't exist.\\n...</td>\n",
       "      <td>False</td>\n",
       "      <td>False</td>\n",
       "      <td>t1_cnvnrha</td>\n",
       "      <td>SluttyGoyToy</td>\n",
       "      <td>NaN</td>\n",
       "      <td>0</td>\n",
       "      <td>2015-01-21 03:04:18</td>\n",
       "      <td>t5_2rjto</td>\n",
       "      <td>t3_2t4j7i</td>\n",
       "      <td>t3_2t4j7i</td>\n",
       "      <td>1</td>\n",
       "      <td>2015-02-21 04:30:30</td>\n",
       "      <td>0</td>\n",
       "      <td>0</td>\n",
       "      <td>cnvnrha</td>\n",
       "      <td>WhiteRights</td>\n",
       "      <td>1</td>\n",
       "      <td>NaN</td>\n",
       "      <td>NaN</td>\n",
       "    </tr>\n",
       "    <tr>\n",
       "      <th>3806</th>\n",
       "      <td>What if I like Israel because they fight the f...</td>\n",
       "      <td>False</td>\n",
       "      <td>False</td>\n",
       "      <td>t1_cp74bg6</td>\n",
       "      <td>Pardonme23</td>\n",
       "      <td>NaN</td>\n",
       "      <td>0</td>\n",
       "      <td>2015-03-07 08:27:09</td>\n",
       "      <td>t5_2rjto</td>\n",
       "      <td>t3_2y58h7</td>\n",
       "      <td>t1_cp6n3d5</td>\n",
       "      <td>-1</td>\n",
       "      <td>2015-03-29 10:52:18</td>\n",
       "      <td>0</td>\n",
       "      <td>0</td>\n",
       "      <td>cp74bg6</td>\n",
       "      <td>WhiteRights</td>\n",
       "      <td>-1</td>\n",
       "      <td>NaN</td>\n",
       "      <td>NaN</td>\n",
       "    </tr>\n",
       "    <tr>\n",
       "      <th>9501</th>\n",
       "      <td>cracker mad cracker mad lol</td>\n",
       "      <td>False</td>\n",
       "      <td>False</td>\n",
       "      <td>t1_cs07w99</td>\n",
       "      <td>jvvsh</td>\n",
       "      <td>NaN</td>\n",
       "      <td>0</td>\n",
       "      <td>2015-06-09 03:32:26</td>\n",
       "      <td>t5_2rjto</td>\n",
       "      <td>t3_3944k9</td>\n",
       "      <td>t1_cs07tfy</td>\n",
       "      <td>-1</td>\n",
       "      <td>2015-07-14 02:19:07</td>\n",
       "      <td>0</td>\n",
       "      <td>0</td>\n",
       "      <td>cs07w99</td>\n",
       "      <td>WhiteRights</td>\n",
       "      <td>-1</td>\n",
       "      <td>NaN</td>\n",
       "      <td>NaN</td>\n",
       "    </tr>\n",
       "    <tr>\n",
       "      <th>10409</th>\n",
       "      <td>Blacks are more racist than whites but whites ...</td>\n",
       "      <td>False</td>\n",
       "      <td>False</td>\n",
       "      <td>t1_cqpuxna</td>\n",
       "      <td>shamwoahh</td>\n",
       "      <td>NaN</td>\n",
       "      <td>0</td>\n",
       "      <td>2015-04-27 02:48:42</td>\n",
       "      <td>t5_2rjto</td>\n",
       "      <td>t3_33z4ml</td>\n",
       "      <td>t1_cqpur22</td>\n",
       "      <td>7</td>\n",
       "      <td>2015-05-26 07:06:23</td>\n",
       "      <td>0</td>\n",
       "      <td>0</td>\n",
       "      <td>cqpuxna</td>\n",
       "      <td>WhiteRights</td>\n",
       "      <td>7</td>\n",
       "      <td>NaN</td>\n",
       "      <td>NaN</td>\n",
       "    </tr>\n",
       "    <tr>\n",
       "      <th>15408</th>\n",
       "      <td>Whites who aren't racist yet soon will be if t...</td>\n",
       "      <td>NaN</td>\n",
       "      <td>NaN</td>\n",
       "      <td>NaN</td>\n",
       "      <td>CylonChick8</td>\n",
       "      <td>NaN</td>\n",
       "      <td>NaN</td>\n",
       "      <td>2015-11-29 16:57:37</td>\n",
       "      <td>t5_2rjto</td>\n",
       "      <td>t3_3ufras</td>\n",
       "      <td>t3_3ufras</td>\n",
       "      <td>1</td>\n",
       "      <td>2015-12-14 13:58:55</td>\n",
       "      <td>0</td>\n",
       "      <td>0</td>\n",
       "      <td>cxguzgt</td>\n",
       "      <td>WhiteRights</td>\n",
       "      <td>1</td>\n",
       "      <td>NaN</td>\n",
       "      <td>NaN</td>\n",
       "    </tr>\n",
       "    <tr>\n",
       "      <th>15483</th>\n",
       "      <td>They're more whites chanting then blacks. Fuck...</td>\n",
       "      <td>NaN</td>\n",
       "      <td>NaN</td>\n",
       "      <td>NaN</td>\n",
       "      <td>PSYOP14EE</td>\n",
       "      <td>NaN</td>\n",
       "      <td>NaN</td>\n",
       "      <td>2015-11-16 15:46:33</td>\n",
       "      <td>t5_2rjto</td>\n",
       "      <td>t3_3t00by</td>\n",
       "      <td>t3_3t00by</td>\n",
       "      <td>5</td>\n",
       "      <td>2015-12-11 11:34:52</td>\n",
       "      <td>0</td>\n",
       "      <td>0</td>\n",
       "      <td>cx24vjk</td>\n",
       "      <td>WhiteRights</td>\n",
       "      <td>5</td>\n",
       "      <td>NaN</td>\n",
       "      <td>NaN</td>\n",
       "    </tr>\n",
       "    <tr>\n",
       "      <th>17830</th>\n",
       "      <td>Fuck these niggers. They will do whatever the ...</td>\n",
       "      <td>NaN</td>\n",
       "      <td>NaN</td>\n",
       "      <td>NaN</td>\n",
       "      <td>no-na-ha</td>\n",
       "      <td>NaN</td>\n",
       "      <td>NaN</td>\n",
       "      <td>2015-12-27 19:26:27</td>\n",
       "      <td>t5_2rjto</td>\n",
       "      <td>t3_3yf9sm</td>\n",
       "      <td>t3_3yf9sm</td>\n",
       "      <td>3</td>\n",
       "      <td>2016-01-04 05:08:50</td>\n",
       "      <td>0</td>\n",
       "      <td>0</td>\n",
       "      <td>cycyw0z</td>\n",
       "      <td>WhiteRights</td>\n",
       "      <td>3</td>\n",
       "      <td>NaN</td>\n",
       "      <td>NaN</td>\n",
       "    </tr>\n",
       "    <tr>\n",
       "      <th>19235</th>\n",
       "      <td>That dumb bitch probably deserved it.\\n\\nWhite...</td>\n",
       "      <td>False</td>\n",
       "      <td>False</td>\n",
       "      <td>t1_ctp5smn</td>\n",
       "      <td>MilotisMelon</td>\n",
       "      <td>NaN</td>\n",
       "      <td>0</td>\n",
       "      <td>2015-08-02 20:08:12</td>\n",
       "      <td>t5_2rjto</td>\n",
       "      <td>t3_3fihcf</td>\n",
       "      <td>t3_3fihcf</td>\n",
       "      <td>-19</td>\n",
       "      <td>2015-08-22 10:54:07</td>\n",
       "      <td>0</td>\n",
       "      <td>0</td>\n",
       "      <td>ctp5smn</td>\n",
       "      <td>WhiteRights</td>\n",
       "      <td>-19</td>\n",
       "      <td>NaN</td>\n",
       "      <td>NaN</td>\n",
       "    </tr>\n",
       "    <tr>\n",
       "      <th>20970</th>\n",
       "      <td>just shoot the niggers and let them rot.\\n</td>\n",
       "      <td>False</td>\n",
       "      <td>False</td>\n",
       "      <td>t1_cuauja6</td>\n",
       "      <td>Girlsbumsarefun</td>\n",
       "      <td>NaN</td>\n",
       "      <td>0</td>\n",
       "      <td>2015-08-21 17:04:15</td>\n",
       "      <td>t5_2rjto</td>\n",
       "      <td>t3_3hu9jl</td>\n",
       "      <td>t3_3hu9jl</td>\n",
       "      <td>7</td>\n",
       "      <td>2015-09-04 17:26:33</td>\n",
       "      <td>0</td>\n",
       "      <td>0</td>\n",
       "      <td>cuauja6</td>\n",
       "      <td>WhiteRights</td>\n",
       "      <td>7</td>\n",
       "      <td>NaN</td>\n",
       "      <td>NaN</td>\n",
       "    </tr>\n",
       "    <tr>\n",
       "      <th>21946</th>\n",
       "      <td>So just a black dick sucking asshole?</td>\n",
       "      <td>False</td>\n",
       "      <td>False</td>\n",
       "      <td>t1_ctszoux</td>\n",
       "      <td>Maximus_dinduicus</td>\n",
       "      <td>NaN</td>\n",
       "      <td>0</td>\n",
       "      <td>2015-08-06 00:09:15</td>\n",
       "      <td>t5_2rjto</td>\n",
       "      <td>t3_3fx2uk</td>\n",
       "      <td>t1_ctsyd3e</td>\n",
       "      <td>2</td>\n",
       "      <td>2015-08-23 05:15:42</td>\n",
       "      <td>0</td>\n",
       "      <td>0</td>\n",
       "      <td>ctszoux</td>\n",
       "      <td>WhiteRights</td>\n",
       "      <td>2</td>\n",
       "      <td>NaN</td>\n",
       "      <td>NaN</td>\n",
       "    </tr>\n",
       "  </tbody>\n",
       "</table>\n",
       "</div>"
      ],
      "text/plain": [
       "                                                    body score_hidden  \\\n",
       "1758   I'm not a slave to a god that doesn't exist.\\n...        False   \n",
       "3806   What if I like Israel because they fight the f...        False   \n",
       "9501                         cracker mad cracker mad lol        False   \n",
       "10409  Blacks are more racist than whites but whites ...        False   \n",
       "15408  Whites who aren't racist yet soon will be if t...          NaN   \n",
       "15483  They're more whites chanting then blacks. Fuck...          NaN   \n",
       "17830  Fuck these niggers. They will do whatever the ...          NaN   \n",
       "19235  That dumb bitch probably deserved it.\\n\\nWhite...        False   \n",
       "20970         just shoot the niggers and let them rot.\\n        False   \n",
       "21946              So just a black dick sucking asshole?        False   \n",
       "\n",
       "      archived        name             author author_flair_text  downs  \\\n",
       "1758     False  t1_cnvnrha       SluttyGoyToy               NaN      0   \n",
       "3806     False  t1_cp74bg6         Pardonme23               NaN      0   \n",
       "9501     False  t1_cs07w99              jvvsh               NaN      0   \n",
       "10409    False  t1_cqpuxna          shamwoahh               NaN      0   \n",
       "15408      NaN         NaN        CylonChick8               NaN    NaN   \n",
       "15483      NaN         NaN          PSYOP14EE               NaN    NaN   \n",
       "17830      NaN         NaN           no-na-ha               NaN    NaN   \n",
       "19235    False  t1_ctp5smn       MilotisMelon               NaN      0   \n",
       "20970    False  t1_cuauja6    Girlsbumsarefun               NaN      0   \n",
       "21946    False  t1_ctszoux  Maximus_dinduicus               NaN      0   \n",
       "\n",
       "              created_utc subreddit_id    link_id   parent_id  score  \\\n",
       "1758  2015-01-21 03:04:18     t5_2rjto  t3_2t4j7i   t3_2t4j7i      1   \n",
       "3806  2015-03-07 08:27:09     t5_2rjto  t3_2y58h7  t1_cp6n3d5     -1   \n",
       "9501  2015-06-09 03:32:26     t5_2rjto  t3_3944k9  t1_cs07tfy     -1   \n",
       "10409 2015-04-27 02:48:42     t5_2rjto  t3_33z4ml  t1_cqpur22      7   \n",
       "15408 2015-11-29 16:57:37     t5_2rjto  t3_3ufras   t3_3ufras      1   \n",
       "15483 2015-11-16 15:46:33     t5_2rjto  t3_3t00by   t3_3t00by      5   \n",
       "17830 2015-12-27 19:26:27     t5_2rjto  t3_3yf9sm   t3_3yf9sm      3   \n",
       "19235 2015-08-02 20:08:12     t5_2rjto  t3_3fihcf   t3_3fihcf    -19   \n",
       "20970 2015-08-21 17:04:15     t5_2rjto  t3_3hu9jl   t3_3hu9jl      7   \n",
       "21946 2015-08-06 00:09:15     t5_2rjto  t3_3fx2uk  t1_ctsyd3e      2   \n",
       "\n",
       "             retrieved_on  controversiality  gilded       id    subreddit  \\\n",
       "1758  2015-02-21 04:30:30                 0       0  cnvnrha  WhiteRights   \n",
       "3806  2015-03-29 10:52:18                 0       0  cp74bg6  WhiteRights   \n",
       "9501  2015-07-14 02:19:07                 0       0  cs07w99  WhiteRights   \n",
       "10409 2015-05-26 07:06:23                 0       0  cqpuxna  WhiteRights   \n",
       "15408 2015-12-14 13:58:55                 0       0  cxguzgt  WhiteRights   \n",
       "15483 2015-12-11 11:34:52                 0       0  cx24vjk  WhiteRights   \n",
       "17830 2016-01-04 05:08:50                 0       0  cycyw0z  WhiteRights   \n",
       "19235 2015-08-22 10:54:07                 0       0  ctp5smn  WhiteRights   \n",
       "20970 2015-09-04 17:26:33                 0       0  cuauja6  WhiteRights   \n",
       "21946 2015-08-23 05:15:42                 0       0  ctszoux  WhiteRights   \n",
       "\n",
       "       ups distinguished author_flair_css_class  \n",
       "1758     1           NaN                    NaN  \n",
       "3806    -1           NaN                    NaN  \n",
       "9501    -1           NaN                    NaN  \n",
       "10409    7           NaN                    NaN  \n",
       "15408    1           NaN                    NaN  \n",
       "15483    5           NaN                    NaN  \n",
       "17830    3           NaN                    NaN  \n",
       "19235  -19           NaN                    NaN  \n",
       "20970    7           NaN                    NaN  \n",
       "21946    2           NaN                    NaN  "
      ]
     },
     "execution_count": 57,
     "metadata": {},
     "output_type": "execute_result"
    }
   ],
   "source": [
    "# A snapshot of the complete data of the worst (20 most offensive comments):\n",
    "i = df_scored[(df_scored['score'] > 0.7) & (df_scored['score'] < 1)].index\n",
    "data.ix[i]"
   ]
  },
  {
   "cell_type": "code",
   "execution_count": null,
   "metadata": {
    "collapsed": true
   },
   "outputs": [],
   "source": []
  }
 ],
 "metadata": {
  "kernelspec": {
   "display_name": "Python 2",
   "language": "python",
   "name": "python2"
  },
  "language_info": {
   "codemirror_mode": {
    "name": "ipython",
    "version": 2
   },
   "file_extension": ".py",
   "mimetype": "text/x-python",
   "name": "python",
   "nbconvert_exporter": "python",
   "pygments_lexer": "ipython2",
   "version": "2.7.11"
  }
 },
 "nbformat": 4,
 "nbformat_minor": 0
}
